{
 "cells": [
  {
   "cell_type": "markdown",
   "id": "43182c8a",
   "metadata": {},
   "source": [
    "<h2>Data Cleaning</h2>"
   ]
  },
  {
   "cell_type": "code",
   "execution_count": 3,
   "id": "14676e03",
   "metadata": {},
   "outputs": [
    {
     "name": "stdout",
     "output_type": "stream",
     "text": [
      "Requirement already satisfied: pandas in /home/sigiey/anaconda3/lib/python3.9/site-packages (1.4.2)\n",
      "Requirement already satisfied: python-dateutil>=2.8.1 in /home/sigiey/anaconda3/lib/python3.9/site-packages (from pandas) (2.8.2)\n",
      "Requirement already satisfied: pytz>=2020.1 in /home/sigiey/anaconda3/lib/python3.9/site-packages (from pandas) (2021.3)\n",
      "Requirement already satisfied: numpy>=1.18.5 in /home/sigiey/anaconda3/lib/python3.9/site-packages (from pandas) (1.21.5)\n",
      "Requirement already satisfied: six>=1.5 in /home/sigiey/anaconda3/lib/python3.9/site-packages (from python-dateutil>=2.8.1->pandas) (1.16.0)\n",
      "Note: you may need to restart the kernel to use updated packages.\n"
     ]
    }
   ],
   "source": [
    "pip install pandas\n"
   ]
  },
  {
   "cell_type": "code",
   "execution_count": 4,
   "id": "309869c0",
   "metadata": {},
   "outputs": [],
   "source": [
    "import pandas as pd"
   ]
  },
  {
   "cell_type": "code",
   "execution_count": 6,
   "id": "c41bef00",
   "metadata": {},
   "outputs": [
    {
     "data": {
      "text/html": [
       "<div>\n",
       "<style scoped>\n",
       "    .dataframe tbody tr th:only-of-type {\n",
       "        vertical-align: middle;\n",
       "    }\n",
       "\n",
       "    .dataframe tbody tr th {\n",
       "        vertical-align: top;\n",
       "    }\n",
       "\n",
       "    .dataframe thead th {\n",
       "        text-align: right;\n",
       "    }\n",
       "</style>\n",
       "<table border=\"1\" class=\"dataframe\">\n",
       "  <thead>\n",
       "    <tr style=\"text-align: right;\">\n",
       "      <th></th>\n",
       "      <th>TrnsnID</th>\n",
       "      <th>Data</th>\n",
       "      <th>CusmrID</th>\n",
       "      <th>ProdtID</th>\n",
       "      <th>ProdtName</th>\n",
       "      <th>Qutity</th>\n",
       "      <th>Prize</th>\n",
       "      <th>TtlSales</th>\n",
       "      <th>PaymentType</th>\n",
       "      <th>CusterAge</th>\n",
       "    </tr>\n",
       "  </thead>\n",
       "  <tbody>\n",
       "    <tr>\n",
       "      <th>0</th>\n",
       "      <td>7402</td>\n",
       "      <td>03/17/2026</td>\n",
       "      <td>991</td>\n",
       "      <td>1045</td>\n",
       "      <td>Boo E</td>\n",
       "      <td>9</td>\n",
       "      <td>167.72</td>\n",
       "      <td>2935.06</td>\n",
       "      <td>NaN</td>\n",
       "      <td>87</td>\n",
       "    </tr>\n",
       "    <tr>\n",
       "      <th>1</th>\n",
       "      <td>5835</td>\n",
       "      <td>26-01-2035</td>\n",
       "      <td>741</td>\n",
       "      <td>1040</td>\n",
       "      <td>Book J</td>\n",
       "      <td>18</td>\n",
       "      <td>193.27</td>\n",
       "      <td>4386.52</td>\n",
       "      <td>debit card</td>\n",
       "      <td>69</td>\n",
       "    </tr>\n",
       "    <tr>\n",
       "      <th>2</th>\n",
       "      <td>2123</td>\n",
       "      <td>05/26/2035</td>\n",
       "      <td>933</td>\n",
       "      <td>1062</td>\n",
       "      <td>Bok N</td>\n",
       "      <td>5</td>\n",
       "      <td>126.39</td>\n",
       "      <td>1948.46</td>\n",
       "      <td>Cash</td>\n",
       "      <td>15</td>\n",
       "    </tr>\n",
       "    <tr>\n",
       "      <th>3</th>\n",
       "      <td>8789</td>\n",
       "      <td>28-02-2036</td>\n",
       "      <td>641</td>\n",
       "      <td>1060</td>\n",
       "      <td>Book I</td>\n",
       "      <td>6</td>\n",
       "      <td>66.98</td>\n",
       "      <td>1757.26</td>\n",
       "      <td>Cash</td>\n",
       "      <td>22</td>\n",
       "    </tr>\n",
       "    <tr>\n",
       "      <th>4</th>\n",
       "      <td>305</td>\n",
       "      <td>19-04-2023</td>\n",
       "      <td>123</td>\n",
       "      <td>1058</td>\n",
       "      <td>Book B</td>\n",
       "      <td>15</td>\n",
       "      <td>33.63</td>\n",
       "      <td>2578.19</td>\n",
       "      <td>Cash</td>\n",
       "      <td>-1</td>\n",
       "    </tr>\n",
       "    <tr>\n",
       "      <th>...</th>\n",
       "      <td>...</td>\n",
       "      <td>...</td>\n",
       "      <td>...</td>\n",
       "      <td>...</td>\n",
       "      <td>...</td>\n",
       "      <td>...</td>\n",
       "      <td>...</td>\n",
       "      <td>...</td>\n",
       "      <td>...</td>\n",
       "      <td>...</td>\n",
       "    </tr>\n",
       "    <tr>\n",
       "      <th>10095</th>\n",
       "      <td>5735</td>\n",
       "      <td>04/03/2027</td>\n",
       "      <td>52</td>\n",
       "      <td>1066</td>\n",
       "      <td>Book G</td>\n",
       "      <td>1</td>\n",
       "      <td>191.41</td>\n",
       "      <td>2788.25</td>\n",
       "      <td>Credit Card</td>\n",
       "      <td>91</td>\n",
       "    </tr>\n",
       "    <tr>\n",
       "      <th>10096</th>\n",
       "      <td>5192</td>\n",
       "      <td>08/16/2025</td>\n",
       "      <td>334</td>\n",
       "      <td>1093</td>\n",
       "      <td>Bok N</td>\n",
       "      <td>-2</td>\n",
       "      <td>186.16</td>\n",
       "      <td>1187.53</td>\n",
       "      <td>paypal</td>\n",
       "      <td>50</td>\n",
       "    </tr>\n",
       "    <tr>\n",
       "      <th>10097</th>\n",
       "      <td>5391</td>\n",
       "      <td>06/18/2026</td>\n",
       "      <td>657</td>\n",
       "      <td>1047</td>\n",
       "      <td>Bookk H</td>\n",
       "      <td>5</td>\n",
       "      <td>84.38</td>\n",
       "      <td>2119.76</td>\n",
       "      <td>debit card</td>\n",
       "      <td>63</td>\n",
       "    </tr>\n",
       "    <tr>\n",
       "      <th>10098</th>\n",
       "      <td>861</td>\n",
       "      <td>04/08/2034</td>\n",
       "      <td>579</td>\n",
       "      <td>1014</td>\n",
       "      <td>Bok N</td>\n",
       "      <td>19</td>\n",
       "      <td>137.58</td>\n",
       "      <td>1708.87</td>\n",
       "      <td>Debit</td>\n",
       "      <td>-7</td>\n",
       "    </tr>\n",
       "    <tr>\n",
       "      <th>10099</th>\n",
       "      <td>7271</td>\n",
       "      <td>26-04-2029</td>\n",
       "      <td>153</td>\n",
       "      <td>1052</td>\n",
       "      <td>Book T</td>\n",
       "      <td>10</td>\n",
       "      <td>159.98</td>\n",
       "      <td>2743.67</td>\n",
       "      <td>debit card</td>\n",
       "      <td>77</td>\n",
       "    </tr>\n",
       "  </tbody>\n",
       "</table>\n",
       "<p>10100 rows × 10 columns</p>\n",
       "</div>"
      ],
      "text/plain": [
       "       TrnsnID        Data  CusmrID  ProdtID ProdtName  Qutity   Prize  \\\n",
       "0         7402  03/17/2026      991     1045     Boo E       9  167.72   \n",
       "1         5835  26-01-2035      741     1040    Book J      18  193.27   \n",
       "2         2123  05/26/2035      933     1062     Bok N       5  126.39   \n",
       "3         8789  28-02-2036      641     1060    Book I       6   66.98   \n",
       "4          305  19-04-2023      123     1058    Book B      15   33.63   \n",
       "...        ...         ...      ...      ...       ...     ...     ...   \n",
       "10095     5735  04/03/2027       52     1066    Book G       1  191.41   \n",
       "10096     5192  08/16/2025      334     1093     Bok N      -2  186.16   \n",
       "10097     5391  06/18/2026      657     1047   Bookk H       5   84.38   \n",
       "10098      861  04/08/2034      579     1014     Bok N      19  137.58   \n",
       "10099     7271  26-04-2029      153     1052    Book T      10  159.98   \n",
       "\n",
       "       TtlSales  PaymentType  CusterAge  \n",
       "0       2935.06          NaN         87  \n",
       "1       4386.52   debit card         69  \n",
       "2       1948.46         Cash         15  \n",
       "3       1757.26         Cash         22  \n",
       "4       2578.19         Cash         -1  \n",
       "...         ...          ...        ...  \n",
       "10095   2788.25  Credit Card         91  \n",
       "10096   1187.53       paypal         50  \n",
       "10097   2119.76   debit card         63  \n",
       "10098   1708.87        Debit         -7  \n",
       "10099   2743.67   debit card         77  \n",
       "\n",
       "[10100 rows x 10 columns]"
      ]
     },
     "execution_count": 6,
     "metadata": {},
     "output_type": "execute_result"
    }
   ],
   "source": [
    "pd.read_csv(r\"/home/sigiey/Documents/Data Science/ASSIGNMENTS/messy_data.csv\"\n",
    "           )"
   ]
  },
  {
   "cell_type": "code",
   "execution_count": 7,
   "id": "cfdb44e9",
   "metadata": {},
   "outputs": [],
   "source": [
    "data = pd.read_csv(r\"/home/sigiey/Documents/Data Science/ASSIGNMENTS/messy_data.csv\"\n",
    "           )"
   ]
  },
  {
   "cell_type": "code",
   "execution_count": 9,
   "id": "dda55817",
   "metadata": {},
   "outputs": [
    {
     "data": {
      "text/html": [
       "<div>\n",
       "<style scoped>\n",
       "    .dataframe tbody tr th:only-of-type {\n",
       "        vertical-align: middle;\n",
       "    }\n",
       "\n",
       "    .dataframe tbody tr th {\n",
       "        vertical-align: top;\n",
       "    }\n",
       "\n",
       "    .dataframe thead th {\n",
       "        text-align: right;\n",
       "    }\n",
       "</style>\n",
       "<table border=\"1\" class=\"dataframe\">\n",
       "  <thead>\n",
       "    <tr style=\"text-align: right;\">\n",
       "      <th></th>\n",
       "      <th>TrnsnID</th>\n",
       "      <th>Data</th>\n",
       "      <th>CusmrID</th>\n",
       "      <th>ProdtID</th>\n",
       "      <th>ProdtName</th>\n",
       "      <th>Qutity</th>\n",
       "      <th>Prize</th>\n",
       "      <th>TtlSales</th>\n",
       "      <th>PaymentType</th>\n",
       "      <th>CusterAge</th>\n",
       "    </tr>\n",
       "  </thead>\n",
       "  <tbody>\n",
       "    <tr>\n",
       "      <th>0</th>\n",
       "      <td>7402</td>\n",
       "      <td>03/17/2026</td>\n",
       "      <td>991</td>\n",
       "      <td>1045</td>\n",
       "      <td>Boo E</td>\n",
       "      <td>9</td>\n",
       "      <td>167.72</td>\n",
       "      <td>2935.06</td>\n",
       "      <td>NaN</td>\n",
       "      <td>87</td>\n",
       "    </tr>\n",
       "    <tr>\n",
       "      <th>1</th>\n",
       "      <td>5835</td>\n",
       "      <td>26-01-2035</td>\n",
       "      <td>741</td>\n",
       "      <td>1040</td>\n",
       "      <td>Book J</td>\n",
       "      <td>18</td>\n",
       "      <td>193.27</td>\n",
       "      <td>4386.52</td>\n",
       "      <td>debit card</td>\n",
       "      <td>69</td>\n",
       "    </tr>\n",
       "    <tr>\n",
       "      <th>2</th>\n",
       "      <td>2123</td>\n",
       "      <td>05/26/2035</td>\n",
       "      <td>933</td>\n",
       "      <td>1062</td>\n",
       "      <td>Bok N</td>\n",
       "      <td>5</td>\n",
       "      <td>126.39</td>\n",
       "      <td>1948.46</td>\n",
       "      <td>Cash</td>\n",
       "      <td>15</td>\n",
       "    </tr>\n",
       "    <tr>\n",
       "      <th>3</th>\n",
       "      <td>8789</td>\n",
       "      <td>28-02-2036</td>\n",
       "      <td>641</td>\n",
       "      <td>1060</td>\n",
       "      <td>Book I</td>\n",
       "      <td>6</td>\n",
       "      <td>66.98</td>\n",
       "      <td>1757.26</td>\n",
       "      <td>Cash</td>\n",
       "      <td>22</td>\n",
       "    </tr>\n",
       "    <tr>\n",
       "      <th>4</th>\n",
       "      <td>305</td>\n",
       "      <td>19-04-2023</td>\n",
       "      <td>123</td>\n",
       "      <td>1058</td>\n",
       "      <td>Book B</td>\n",
       "      <td>15</td>\n",
       "      <td>33.63</td>\n",
       "      <td>2578.19</td>\n",
       "      <td>Cash</td>\n",
       "      <td>-1</td>\n",
       "    </tr>\n",
       "  </tbody>\n",
       "</table>\n",
       "</div>"
      ],
      "text/plain": [
       "   TrnsnID        Data  CusmrID  ProdtID ProdtName  Qutity   Prize  TtlSales  \\\n",
       "0     7402  03/17/2026      991     1045     Boo E       9  167.72   2935.06   \n",
       "1     5835  26-01-2035      741     1040    Book J      18  193.27   4386.52   \n",
       "2     2123  05/26/2035      933     1062     Bok N       5  126.39   1948.46   \n",
       "3     8789  28-02-2036      641     1060    Book I       6   66.98   1757.26   \n",
       "4      305  19-04-2023      123     1058    Book B      15   33.63   2578.19   \n",
       "\n",
       "  PaymentType  CusterAge  \n",
       "0         NaN         87  \n",
       "1  debit card         69  \n",
       "2        Cash         15  \n",
       "3        Cash         22  \n",
       "4        Cash         -1  "
      ]
     },
     "execution_count": 9,
     "metadata": {},
     "output_type": "execute_result"
    }
   ],
   "source": [
    "data.head()\n"
   ]
  },
  {
   "cell_type": "code",
   "execution_count": 10,
   "id": "dd9ea285",
   "metadata": {},
   "outputs": [
    {
     "data": {
      "text/html": [
       "<div>\n",
       "<style scoped>\n",
       "    .dataframe tbody tr th:only-of-type {\n",
       "        vertical-align: middle;\n",
       "    }\n",
       "\n",
       "    .dataframe tbody tr th {\n",
       "        vertical-align: top;\n",
       "    }\n",
       "\n",
       "    .dataframe thead th {\n",
       "        text-align: right;\n",
       "    }\n",
       "</style>\n",
       "<table border=\"1\" class=\"dataframe\">\n",
       "  <thead>\n",
       "    <tr style=\"text-align: right;\">\n",
       "      <th></th>\n",
       "      <th>TrnsnID</th>\n",
       "      <th>Data</th>\n",
       "      <th>CusmrID</th>\n",
       "      <th>ProdtID</th>\n",
       "      <th>ProdtName</th>\n",
       "      <th>Qutity</th>\n",
       "      <th>Prize</th>\n",
       "      <th>TtlSales</th>\n",
       "      <th>PaymentType</th>\n",
       "      <th>CusterAge</th>\n",
       "    </tr>\n",
       "  </thead>\n",
       "  <tbody>\n",
       "    <tr>\n",
       "      <th>10095</th>\n",
       "      <td>5735</td>\n",
       "      <td>04/03/2027</td>\n",
       "      <td>52</td>\n",
       "      <td>1066</td>\n",
       "      <td>Book G</td>\n",
       "      <td>1</td>\n",
       "      <td>191.41</td>\n",
       "      <td>2788.25</td>\n",
       "      <td>Credit Card</td>\n",
       "      <td>91</td>\n",
       "    </tr>\n",
       "    <tr>\n",
       "      <th>10096</th>\n",
       "      <td>5192</td>\n",
       "      <td>08/16/2025</td>\n",
       "      <td>334</td>\n",
       "      <td>1093</td>\n",
       "      <td>Bok N</td>\n",
       "      <td>-2</td>\n",
       "      <td>186.16</td>\n",
       "      <td>1187.53</td>\n",
       "      <td>paypal</td>\n",
       "      <td>50</td>\n",
       "    </tr>\n",
       "    <tr>\n",
       "      <th>10097</th>\n",
       "      <td>5391</td>\n",
       "      <td>06/18/2026</td>\n",
       "      <td>657</td>\n",
       "      <td>1047</td>\n",
       "      <td>Bookk H</td>\n",
       "      <td>5</td>\n",
       "      <td>84.38</td>\n",
       "      <td>2119.76</td>\n",
       "      <td>debit card</td>\n",
       "      <td>63</td>\n",
       "    </tr>\n",
       "    <tr>\n",
       "      <th>10098</th>\n",
       "      <td>861</td>\n",
       "      <td>04/08/2034</td>\n",
       "      <td>579</td>\n",
       "      <td>1014</td>\n",
       "      <td>Bok N</td>\n",
       "      <td>19</td>\n",
       "      <td>137.58</td>\n",
       "      <td>1708.87</td>\n",
       "      <td>Debit</td>\n",
       "      <td>-7</td>\n",
       "    </tr>\n",
       "    <tr>\n",
       "      <th>10099</th>\n",
       "      <td>7271</td>\n",
       "      <td>26-04-2029</td>\n",
       "      <td>153</td>\n",
       "      <td>1052</td>\n",
       "      <td>Book T</td>\n",
       "      <td>10</td>\n",
       "      <td>159.98</td>\n",
       "      <td>2743.67</td>\n",
       "      <td>debit card</td>\n",
       "      <td>77</td>\n",
       "    </tr>\n",
       "  </tbody>\n",
       "</table>\n",
       "</div>"
      ],
      "text/plain": [
       "       TrnsnID        Data  CusmrID  ProdtID ProdtName  Qutity   Prize  \\\n",
       "10095     5735  04/03/2027       52     1066    Book G       1  191.41   \n",
       "10096     5192  08/16/2025      334     1093     Bok N      -2  186.16   \n",
       "10097     5391  06/18/2026      657     1047   Bookk H       5   84.38   \n",
       "10098      861  04/08/2034      579     1014     Bok N      19  137.58   \n",
       "10099     7271  26-04-2029      153     1052    Book T      10  159.98   \n",
       "\n",
       "       TtlSales  PaymentType  CusterAge  \n",
       "10095   2788.25  Credit Card         91  \n",
       "10096   1187.53       paypal         50  \n",
       "10097   2119.76   debit card         63  \n",
       "10098   1708.87        Debit         -7  \n",
       "10099   2743.67   debit card         77  "
      ]
     },
     "execution_count": 10,
     "metadata": {},
     "output_type": "execute_result"
    }
   ],
   "source": [
    "data.tail()"
   ]
  },
  {
   "cell_type": "code",
   "execution_count": 12,
   "id": "0c06aaf4",
   "metadata": {},
   "outputs": [
    {
     "data": {
      "text/plain": [
       "Index(['TrnsnID', 'Data', 'CusmrID', 'ProdtID', 'ProdtName', 'Qutity', 'Prize',\n",
       "       'TtlSales', 'PaymentType', 'CusterAge'],\n",
       "      dtype='object')"
      ]
     },
     "execution_count": 12,
     "metadata": {},
     "output_type": "execute_result"
    }
   ],
   "source": [
    "data.columns"
   ]
  },
  {
   "cell_type": "code",
   "execution_count": 13,
   "id": "15f397ed",
   "metadata": {},
   "outputs": [
    {
     "ename": "AttributeError",
     "evalue": "'DataFrame' object has no attribute 'rows'",
     "output_type": "error",
     "traceback": [
      "\u001b[0;31m---------------------------------------------------------------------------\u001b[0m",
      "\u001b[0;31mAttributeError\u001b[0m                            Traceback (most recent call last)",
      "Input \u001b[0;32mIn [13]\u001b[0m, in \u001b[0;36m<cell line: 1>\u001b[0;34m()\u001b[0m\n\u001b[0;32m----> 1\u001b[0m \u001b[43mdata\u001b[49m\u001b[38;5;241;43m.\u001b[39;49m\u001b[43mrows\u001b[49m\n",
      "File \u001b[0;32m~/anaconda3/lib/python3.9/site-packages/pandas/core/generic.py:5575\u001b[0m, in \u001b[0;36mNDFrame.__getattr__\u001b[0;34m(self, name)\u001b[0m\n\u001b[1;32m   5568\u001b[0m \u001b[38;5;28;01mif\u001b[39;00m (\n\u001b[1;32m   5569\u001b[0m     name \u001b[38;5;129;01mnot\u001b[39;00m \u001b[38;5;129;01min\u001b[39;00m \u001b[38;5;28mself\u001b[39m\u001b[38;5;241m.\u001b[39m_internal_names_set\n\u001b[1;32m   5570\u001b[0m     \u001b[38;5;129;01mand\u001b[39;00m name \u001b[38;5;129;01mnot\u001b[39;00m \u001b[38;5;129;01min\u001b[39;00m \u001b[38;5;28mself\u001b[39m\u001b[38;5;241m.\u001b[39m_metadata\n\u001b[1;32m   5571\u001b[0m     \u001b[38;5;129;01mand\u001b[39;00m name \u001b[38;5;129;01mnot\u001b[39;00m \u001b[38;5;129;01min\u001b[39;00m \u001b[38;5;28mself\u001b[39m\u001b[38;5;241m.\u001b[39m_accessors\n\u001b[1;32m   5572\u001b[0m     \u001b[38;5;129;01mand\u001b[39;00m \u001b[38;5;28mself\u001b[39m\u001b[38;5;241m.\u001b[39m_info_axis\u001b[38;5;241m.\u001b[39m_can_hold_identifiers_and_holds_name(name)\n\u001b[1;32m   5573\u001b[0m ):\n\u001b[1;32m   5574\u001b[0m     \u001b[38;5;28;01mreturn\u001b[39;00m \u001b[38;5;28mself\u001b[39m[name]\n\u001b[0;32m-> 5575\u001b[0m \u001b[38;5;28;01mreturn\u001b[39;00m \u001b[38;5;28;43mobject\u001b[39;49m\u001b[38;5;241;43m.\u001b[39;49m\u001b[38;5;21;43m__getattribute__\u001b[39;49m\u001b[43m(\u001b[49m\u001b[38;5;28;43mself\u001b[39;49m\u001b[43m,\u001b[49m\u001b[43m \u001b[49m\u001b[43mname\u001b[49m\u001b[43m)\u001b[49m\n",
      "\u001b[0;31mAttributeError\u001b[0m: 'DataFrame' object has no attribute 'rows'"
     ]
    }
   ],
   "source": [
    "data.rows\n"
   ]
  },
  {
   "cell_type": "code",
   "execution_count": 32,
   "id": "c75cb0f8",
   "metadata": {},
   "outputs": [
    {
     "data": {
      "text/plain": [
       "(10000, 10)"
      ]
     },
     "execution_count": 32,
     "metadata": {},
     "output_type": "execute_result"
    }
   ],
   "source": [
    "data.shape\n"
   ]
  },
  {
   "cell_type": "code",
   "execution_count": 33,
   "id": "9664f5cb",
   "metadata": {},
   "outputs": [
    {
     "data": {
      "text/plain": [
       "0"
      ]
     },
     "execution_count": 33,
     "metadata": {},
     "output_type": "execute_result"
    }
   ],
   "source": [
    "data.duplicated().sum()\n"
   ]
  },
  {
   "cell_type": "code",
   "execution_count": 17,
   "id": "808eea64",
   "metadata": {},
   "outputs": [],
   "source": [
    "duplicate_rows = data.duplicated()"
   ]
  },
  {
   "cell_type": "code",
   "execution_count": 18,
   "id": "7ff04ae8",
   "metadata": {},
   "outputs": [
    {
     "name": "stdout",
     "output_type": "stream",
     "text": [
      "      TrnsnID        Data  CusmrID  ProdtID ProdtName  Qutity   Prize  \\\n",
      "919       800  02-12-2023      480     1060    Book I       9   77.26   \n",
      "980      1057  04-10-2034      138     1086    Book T       5   94.21   \n",
      "1062     2305  12/19/2025      252     1015    Book G      17  100.39   \n",
      "1119     2593  18-04-2029      885     1094       NaN       4   62.35   \n",
      "1136     2928  12/07/2033       43     1074    Book J      11  172.68   \n",
      "...       ...         ...      ...      ...       ...     ...     ...   \n",
      "9587     8285  01/05/2036      220     1047    Book G      16  185.09   \n",
      "9598     9921  08/24/2026       84     1034    Book I       5   41.14   \n",
      "9785     5360  10/05/2028       35     1061    Book S      -4   90.41   \n",
      "9825      953  19-02-2026      587     1051       NaN      11  119.82   \n",
      "9951     8128  24-01-2035      458     1033    Book G      -2   88.56   \n",
      "\n",
      "      TtlSales  PaymentType  CusterAge  \n",
      "919    2032.76          NaN         53  \n",
      "980    4352.25       Credit         61  \n",
      "1062   3003.74        Debit         58  \n",
      "1119   4545.08   debit card         -4  \n",
      "1136   1466.96        Debit         17  \n",
      "...        ...          ...        ...  \n",
      "9587    179.46        Debit         97  \n",
      "9598   3370.37       Credit         94  \n",
      "9785   2773.98  Credit Card         49  \n",
      "9825   3009.55       Credit        -10  \n",
      "9951   2157.74          NaN         58  \n",
      "\n",
      "[100 rows x 10 columns]\n"
     ]
    }
   ],
   "source": [
    "print(data[duplicate_rows])"
   ]
  },
  {
   "cell_type": "code",
   "execution_count": 19,
   "id": "8de0155f",
   "metadata": {},
   "outputs": [],
   "source": [
    "data_cleaned = data.drop_duplicates()"
   ]
  },
  {
   "cell_type": "code",
   "execution_count": 20,
   "id": "b767efc2",
   "metadata": {},
   "outputs": [
    {
     "name": "stdout",
     "output_type": "stream",
     "text": [
      "       TrnsnID        Data  CusmrID  ProdtID ProdtName  Qutity   Prize  \\\n",
      "0         7402  03/17/2026      991     1045     Boo E       9  167.72   \n",
      "1         5835  26-01-2035      741     1040    Book J      18  193.27   \n",
      "2         2123  05/26/2035      933     1062     Bok N       5  126.39   \n",
      "3         8789  28-02-2036      641     1060    Book I       6   66.98   \n",
      "4          305  19-04-2023      123     1058    Book B      15   33.63   \n",
      "...        ...         ...      ...      ...       ...     ...     ...   \n",
      "10095     5735  04/03/2027       52     1066    Book G       1  191.41   \n",
      "10096     5192  08/16/2025      334     1093     Bok N      -2  186.16   \n",
      "10097     5391  06/18/2026      657     1047   Bookk H       5   84.38   \n",
      "10098      861  04/08/2034      579     1014     Bok N      19  137.58   \n",
      "10099     7271  26-04-2029      153     1052    Book T      10  159.98   \n",
      "\n",
      "       TtlSales  PaymentType  CusterAge  \n",
      "0       2935.06          NaN         87  \n",
      "1       4386.52   debit card         69  \n",
      "2       1948.46         Cash         15  \n",
      "3       1757.26         Cash         22  \n",
      "4       2578.19         Cash         -1  \n",
      "...         ...          ...        ...  \n",
      "10095   2788.25  Credit Card         91  \n",
      "10096   1187.53       paypal         50  \n",
      "10097   2119.76   debit card         63  \n",
      "10098   1708.87        Debit         -7  \n",
      "10099   2743.67   debit card         77  \n",
      "\n",
      "[10000 rows x 10 columns]\n"
     ]
    }
   ],
   "source": [
    "print(data_cleaned)"
   ]
  },
  {
   "cell_type": "code",
   "execution_count": 21,
   "id": "b6bf4b8a",
   "metadata": {},
   "outputs": [
    {
     "name": "stdout",
     "output_type": "stream",
     "text": [
      "      TrnsnID        Data  CusmrID  ProdtID ProdtName  Qutity   Prize  \\\n",
      "919       800  02-12-2023      480     1060    Book I       9   77.26   \n",
      "980      1057  04-10-2034      138     1086    Book T       5   94.21   \n",
      "1062     2305  12/19/2025      252     1015    Book G      17  100.39   \n",
      "1119     2593  18-04-2029      885     1094       NaN       4   62.35   \n",
      "1136     2928  12/07/2033       43     1074    Book J      11  172.68   \n",
      "...       ...         ...      ...      ...       ...     ...     ...   \n",
      "9587     8285  01/05/2036      220     1047    Book G      16  185.09   \n",
      "9598     9921  08/24/2026       84     1034    Book I       5   41.14   \n",
      "9785     5360  10/05/2028       35     1061    Book S      -4   90.41   \n",
      "9825      953  19-02-2026      587     1051       NaN      11  119.82   \n",
      "9951     8128  24-01-2035      458     1033    Book G      -2   88.56   \n",
      "\n",
      "      TtlSales  PaymentType  CusterAge  \n",
      "919    2032.76          NaN         53  \n",
      "980    4352.25       Credit         61  \n",
      "1062   3003.74        Debit         58  \n",
      "1119   4545.08   debit card         -4  \n",
      "1136   1466.96        Debit         17  \n",
      "...        ...          ...        ...  \n",
      "9587    179.46        Debit         97  \n",
      "9598   3370.37       Credit         94  \n",
      "9785   2773.98  Credit Card         49  \n",
      "9825   3009.55       Credit        -10  \n",
      "9951   2157.74          NaN         58  \n",
      "\n",
      "[100 rows x 10 columns]\n"
     ]
    }
   ],
   "source": [
    "print(data[duplicate_rows])"
   ]
  },
  {
   "cell_type": "code",
   "execution_count": 22,
   "id": "712ee8d3",
   "metadata": {},
   "outputs": [
    {
     "data": {
      "text/plain": [
       "100"
      ]
     },
     "execution_count": 22,
     "metadata": {},
     "output_type": "execute_result"
    }
   ],
   "source": [
    "data.duplicated().sum()"
   ]
  },
  {
   "cell_type": "code",
   "execution_count": 23,
   "id": "59bb2eea",
   "metadata": {},
   "outputs": [],
   "source": [
    "data_cleaned = data_cleaned.reset_index(drop=True)\n"
   ]
  },
  {
   "cell_type": "code",
   "execution_count": 24,
   "id": "aec12ff3",
   "metadata": {},
   "outputs": [
    {
     "name": "stdout",
     "output_type": "stream",
     "text": [
      "      TrnsnID        Data  CusmrID  ProdtID ProdtName  Qutity   Prize  \\\n",
      "0        7402  03/17/2026      991     1045     Boo E       9  167.72   \n",
      "1        5835  26-01-2035      741     1040    Book J      18  193.27   \n",
      "2        2123  05/26/2035      933     1062     Bok N       5  126.39   \n",
      "3        8789  28-02-2036      641     1060    Book I       6   66.98   \n",
      "4         305  19-04-2023      123     1058    Book B      15   33.63   \n",
      "...       ...         ...      ...      ...       ...     ...     ...   \n",
      "9995     5735  04/03/2027       52     1066    Book G       1  191.41   \n",
      "9996     5192  08/16/2025      334     1093     Bok N      -2  186.16   \n",
      "9997     5391  06/18/2026      657     1047   Bookk H       5   84.38   \n",
      "9998      861  04/08/2034      579     1014     Bok N      19  137.58   \n",
      "9999     7271  26-04-2029      153     1052    Book T      10  159.98   \n",
      "\n",
      "      TtlSales  PaymentType  CusterAge  \n",
      "0      2935.06          NaN         87  \n",
      "1      4386.52   debit card         69  \n",
      "2      1948.46         Cash         15  \n",
      "3      1757.26         Cash         22  \n",
      "4      2578.19         Cash         -1  \n",
      "...        ...          ...        ...  \n",
      "9995   2788.25  Credit Card         91  \n",
      "9996   1187.53       paypal         50  \n",
      "9997   2119.76   debit card         63  \n",
      "9998   1708.87        Debit         -7  \n",
      "9999   2743.67   debit card         77  \n",
      "\n",
      "[10000 rows x 10 columns]\n"
     ]
    }
   ],
   "source": [
    "print(data_cleaned)\n"
   ]
  },
  {
   "cell_type": "code",
   "execution_count": 25,
   "id": "53a2ea4c",
   "metadata": {},
   "outputs": [],
   "source": [
    "data.drop_duplicates(inplace=True)"
   ]
  },
  {
   "cell_type": "code",
   "execution_count": 26,
   "id": "4e5450b9",
   "metadata": {},
   "outputs": [
    {
     "data": {
      "text/plain": [
       "0"
      ]
     },
     "execution_count": 26,
     "metadata": {},
     "output_type": "execute_result"
    }
   ],
   "source": [
    "data.duplicated().sum()"
   ]
  },
  {
   "cell_type": "code",
   "execution_count": 27,
   "id": "bbd33c7a",
   "metadata": {},
   "outputs": [
    {
     "name": "stdout",
     "output_type": "stream",
     "text": [
      "      TrnsnID        Data  CusmrID  ProdtID ProdtName  Qutity   Prize  \\\n",
      "0        7402  03/17/2026      991     1045     Boo E       9  167.72   \n",
      "1        5835  26-01-2035      741     1040    Book J      18  193.27   \n",
      "2        2123  05/26/2035      933     1062     Bok N       5  126.39   \n",
      "3        8789  28-02-2036      641     1060    Book I       6   66.98   \n",
      "4         305  19-04-2023      123     1058    Book B      15   33.63   \n",
      "...       ...         ...      ...      ...       ...     ...     ...   \n",
      "9995     5735  04/03/2027       52     1066    Book G       1  191.41   \n",
      "9996     5192  08/16/2025      334     1093     Bok N      -2  186.16   \n",
      "9997     5391  06/18/2026      657     1047   Bookk H       5   84.38   \n",
      "9998      861  04/08/2034      579     1014     Bok N      19  137.58   \n",
      "9999     7271  26-04-2029      153     1052    Book T      10  159.98   \n",
      "\n",
      "      TtlSales  PaymentType  CusterAge  \n",
      "0      2935.06          NaN         87  \n",
      "1      4386.52   debit card         69  \n",
      "2      1948.46         Cash         15  \n",
      "3      1757.26         Cash         22  \n",
      "4      2578.19         Cash         -1  \n",
      "...        ...          ...        ...  \n",
      "9995   2788.25  Credit Card         91  \n",
      "9996   1187.53       paypal         50  \n",
      "9997   2119.76   debit card         63  \n",
      "9998   1708.87        Debit         -7  \n",
      "9999   2743.67   debit card         77  \n",
      "\n",
      "[10000 rows x 10 columns]\n"
     ]
    }
   ],
   "source": [
    "print(data_cleaned)"
   ]
  },
  {
   "cell_type": "code",
   "execution_count": 28,
   "id": "52e84a71",
   "metadata": {},
   "outputs": [],
   "source": [
    "missing_values = data.isnull().sum()"
   ]
  },
  {
   "cell_type": "code",
   "execution_count": 30,
   "id": "f74b56b0",
   "metadata": {},
   "outputs": [
    {
     "name": "stdout",
     "output_type": "stream",
     "text": [
      "TrnsnID           0\n",
      "Data              0\n",
      "CusmrID           0\n",
      "ProdtID           0\n",
      "ProdtName       994\n",
      "Qutity            0\n",
      "Prize             0\n",
      "TtlSales          0\n",
      "PaymentType    1439\n",
      "CusterAge         0\n",
      "dtype: int64\n"
     ]
    }
   ],
   "source": [
    "print(missing_values)"
   ]
  },
  {
   "cell_type": "code",
   "execution_count": 31,
   "id": "b4cb34c9",
   "metadata": {},
   "outputs": [
    {
     "data": {
      "text/plain": [
       "(10000, 10)"
      ]
     },
     "execution_count": 31,
     "metadata": {},
     "output_type": "execute_result"
    }
   ],
   "source": [
    "data.shape"
   ]
  },
  {
   "cell_type": "code",
   "execution_count": 35,
   "id": "d39a344f",
   "metadata": {},
   "outputs": [],
   "source": [
    "data['PaymentType'].fillna('Unknown', inplace=True)\n",
    "\n"
   ]
  },
  {
   "cell_type": "code",
   "execution_count": 36,
   "id": "5ac5118e",
   "metadata": {},
   "outputs": [
    {
     "name": "stdout",
     "output_type": "stream",
     "text": [
      "TrnsnID           0\n",
      "Data              0\n",
      "CusmrID           0\n",
      "ProdtID           0\n",
      "ProdtName       994\n",
      "Qutity            0\n",
      "Prize             0\n",
      "TtlSales          0\n",
      "PaymentType    1439\n",
      "CusterAge         0\n",
      "dtype: int64\n"
     ]
    }
   ],
   "source": [
    "print(missing_values)"
   ]
  },
  {
   "cell_type": "code",
   "execution_count": 37,
   "id": "1549d503",
   "metadata": {},
   "outputs": [
    {
     "name": "stdout",
     "output_type": "stream",
     "text": [
      "['Unknown' 'debit card' 'Cash' 'Debit' 'Credit' 'Credit Card' 'paypal']\n"
     ]
    }
   ],
   "source": [
    "print(data['PaymentType'].unique())\n"
   ]
  },
  {
   "cell_type": "code",
   "execution_count": 38,
   "id": "039e7879",
   "metadata": {},
   "outputs": [
    {
     "name": "stdout",
     "output_type": "stream",
     "text": [
      "TrnsnID          0\n",
      "Data             0\n",
      "CusmrID          0\n",
      "ProdtID          0\n",
      "ProdtName      994\n",
      "Qutity           0\n",
      "Prize            0\n",
      "TtlSales         0\n",
      "PaymentType      0\n",
      "CusterAge        0\n",
      "dtype: int64\n"
     ]
    }
   ],
   "source": [
    "print(data.isnull().sum())\n"
   ]
  },
  {
   "cell_type": "code",
   "execution_count": 41,
   "id": "0458dff2",
   "metadata": {
    "scrolled": true
   },
   "outputs": [],
   "source": [
    "data['ProdtName'].fillna('Unknown', inplace=True)\n"
   ]
  },
  {
   "cell_type": "code",
   "execution_count": 42,
   "id": "d52e9e06",
   "metadata": {},
   "outputs": [
    {
     "name": "stdout",
     "output_type": "stream",
     "text": [
      "TrnsnID        0\n",
      "Data           0\n",
      "CusmrID        0\n",
      "ProdtID        0\n",
      "ProdtName      0\n",
      "Qutity         0\n",
      "Prize          0\n",
      "TtlSales       0\n",
      "PaymentType    0\n",
      "CusterAge      0\n",
      "dtype: int64\n"
     ]
    }
   ],
   "source": [
    "print(data.isnull().sum())"
   ]
  },
  {
   "cell_type": "code",
   "execution_count": 50,
   "id": "3f70ef34",
   "metadata": {},
   "outputs": [],
   "source": [
    "data['Data'] = pd.to_datetime(data['Data'], format='%d-%m-%Y', errors='coerce')"
   ]
  },
  {
   "cell_type": "code",
   "execution_count": 51,
   "id": "58e70885",
   "metadata": {},
   "outputs": [
    {
     "data": {
      "text/plain": [
       "0              NaT\n",
       "1       2035-01-26\n",
       "2              NaT\n",
       "3       2036-02-28\n",
       "4       2023-04-19\n",
       "           ...    \n",
       "10095          NaT\n",
       "10096          NaT\n",
       "10097          NaT\n",
       "10098          NaT\n",
       "10099   2029-04-26\n",
       "Name: Data, Length: 10000, dtype: datetime64[ns]"
      ]
     },
     "execution_count": 51,
     "metadata": {},
     "output_type": "execute_result"
    }
   ],
   "source": [
    "pd.to_datetime(data['Data'], format='%d-%m-%Y')"
   ]
  },
  {
   "cell_type": "code",
   "execution_count": 52,
   "id": "f26aa1da",
   "metadata": {},
   "outputs": [],
   "source": [
    "replacement_date = pd.to_datetime('1900-01-01')"
   ]
  },
  {
   "cell_type": "code",
   "execution_count": 53,
   "id": "a67dab68",
   "metadata": {},
   "outputs": [],
   "source": [
    "data['Data'].fillna(replacement_date, inplace=True)"
   ]
  },
  {
   "cell_type": "code",
   "execution_count": 55,
   "id": "5e60d184",
   "metadata": {},
   "outputs": [
    {
     "data": {
      "text/plain": [
       "0       1900-01-01\n",
       "1       2035-01-26\n",
       "2       1900-01-01\n",
       "3       2036-02-28\n",
       "4       2023-04-19\n",
       "           ...    \n",
       "10095   1900-01-01\n",
       "10096   1900-01-01\n",
       "10097   1900-01-01\n",
       "10098   1900-01-01\n",
       "10099   2029-04-26\n",
       "Name: Data, Length: 10000, dtype: datetime64[ns]"
      ]
     },
     "execution_count": 55,
     "metadata": {},
     "output_type": "execute_result"
    }
   ],
   "source": [
    "pd.to_datetime(data['Data'], format='%d-%m-%Y')"
   ]
  },
  {
   "cell_type": "code",
   "execution_count": 56,
   "id": "df4f52d5",
   "metadata": {},
   "outputs": [],
   "source": [
    "# Define the mapping dictionary\n",
    "payment_type_mapping = {\n",
    "    'debit card': 'Debit Card',\n",
    "    'Credit Card': 'Credit Card',\n",
    "    'Cash': 'Cash',\n",
    "    'Debit': 'Debit Card', \n",
    "    'Credit': 'Credit Card', \n",
    "    'paypal': 'Paypal'\n",
    "}"
   ]
  },
  {
   "cell_type": "code",
   "execution_count": 57,
   "id": "1430b586",
   "metadata": {},
   "outputs": [],
   "source": [
    "data['PaymentType'] = data['PaymentType'].str.lower().map(payment_type_mapping)"
   ]
  },
  {
   "cell_type": "code",
   "execution_count": 58,
   "id": "bacc5fbe",
   "metadata": {},
   "outputs": [
    {
     "data": {
      "text/plain": [
       "Index(['TrnsnID', 'Data', 'CusmrID', 'ProdtID', 'ProdtName', 'Qutity', 'Prize',\n",
       "       'TtlSales', 'PaymentType', 'CusterAge'],\n",
       "      dtype='object')"
      ]
     },
     "execution_count": 58,
     "metadata": {},
     "output_type": "execute_result"
    }
   ],
   "source": [
    "data.columns\n"
   ]
  },
  {
   "cell_type": "code",
   "execution_count": 59,
   "id": "b7de8c9f",
   "metadata": {},
   "outputs": [],
   "source": [
    "columns_to_check = ['Qutity', 'Prize', 'TtlSales', 'CusterAge']"
   ]
  },
  {
   "cell_type": "code",
   "execution_count": 60,
   "id": "c7439d31",
   "metadata": {},
   "outputs": [
    {
     "name": "stdout",
     "output_type": "stream",
     "text": [
      "       TrnsnID       Data  CusmrID  ProdtID ProdtName  Qutity   Prize  \\\n",
      "4          305 2023-04-19      123     1058    Book B      15   33.63   \n",
      "6         2996 1900-01-01      571     1086    Book D      15  176.27   \n",
      "26        4302 2029-10-12      566     1022     Bok N      -4  111.77   \n",
      "30        4443 1900-01-01      294     1088    Book P       6  137.01   \n",
      "32        4534 1900-01-01      963     1052    Book L       3  152.39   \n",
      "...        ...        ...      ...      ...       ...     ...     ...   \n",
      "10088      770 2036-05-30      835     1072    Book R      -5   83.84   \n",
      "10093      467 1900-01-01      564     1095   Unknown      -3   50.77   \n",
      "10094     6266 1900-01-01      804     1051     Boo E      -2  190.93   \n",
      "10096     5192 1900-01-01      334     1093     Bok N      -2  186.16   \n",
      "10098      861 1900-01-01      579     1014     Bok N      19  137.58   \n",
      "\n",
      "       TtlSales PaymentType  CusterAge  \n",
      "4       2578.19         NaN         -1  \n",
      "6       4822.26         NaN         -4  \n",
      "26      3955.85         NaN         57  \n",
      "30      2783.85         NaN         -8  \n",
      "32       761.66         NaN         -1  \n",
      "...         ...         ...        ...  \n",
      "10088    883.07  Debit Card         69  \n",
      "10093   4433.61         NaN         49  \n",
      "10094   4938.27         NaN         86  \n",
      "10096   1187.53      Paypal         50  \n",
      "10098   1708.87         NaN         -7  \n",
      "\n",
      "[2726 rows x 10 columns]\n"
     ]
    }
   ],
   "source": [
    "print(data[(data[columns_to_check] < 0).any(axis=1)])"
   ]
  },
  {
   "cell_type": "code",
   "execution_count": 61,
   "id": "4c576f8d",
   "metadata": {},
   "outputs": [],
   "source": []
  },
  {
   "cell_type": "code",
   "execution_count": 63,
   "id": "ab473daf",
   "metadata": {},
   "outputs": [],
   "source": [
    "data[['Qutity', 'Prize', 'CusterAge']] = data[['Qutity', 'Prize', 'CusterAge']].abs()"
   ]
  },
  {
   "cell_type": "code",
   "execution_count": 64,
   "id": "ef2981c6",
   "metadata": {},
   "outputs": [],
   "source": [
    "data['PaymentType'].fillna('Unknown', inplace=True)"
   ]
  },
  {
   "cell_type": "code",
   "execution_count": 65,
   "id": "d3cbc4be",
   "metadata": {},
   "outputs": [
    {
     "name": "stdout",
     "output_type": "stream",
     "text": [
      "Empty DataFrame\n",
      "Columns: [TrnsnID, Data, CusmrID, ProdtID, ProdtName, Qutity, Prize, TtlSales, PaymentType, CusterAge]\n",
      "Index: []\n"
     ]
    }
   ],
   "source": [
    "print(data[(data[columns_to_check] < 0).any(axis=1)])"
   ]
  },
  {
   "cell_type": "code",
   "execution_count": null,
   "id": "b19339da",
   "metadata": {},
   "outputs": [],
   "source": []
  },
  {
   "cell_type": "code",
   "execution_count": 68,
   "id": "ab8cf47d",
   "metadata": {},
   "outputs": [
    {
     "name": "stdout",
     "output_type": "stream",
     "text": [
      "       Qutity   Prize  CusterAge\n",
      "0           9  167.72         87\n",
      "1          18  193.27         69\n",
      "2           5  126.39         15\n",
      "3           6   66.98         22\n",
      "4          15   33.63          1\n",
      "...       ...     ...        ...\n",
      "10095       1  191.41         91\n",
      "10096       2  186.16         50\n",
      "10097       5   84.38         63\n",
      "10098      19  137.58          7\n",
      "10099      10  159.98         77\n",
      "\n",
      "[10000 rows x 3 columns]\n"
     ]
    }
   ],
   "source": [
    "print(data[['Qutity', 'Prize', 'CusterAge']])\n"
   ]
  },
  {
   "cell_type": "code",
   "execution_count": 69,
   "id": "35b9258b",
   "metadata": {},
   "outputs": [
    {
     "data": {
      "text/plain": [
       "Index(['TrnsnID', 'Data', 'CusmrID', 'ProdtID', 'ProdtName', 'Qutity', 'Prize',\n",
       "       'TtlSales', 'PaymentType', 'CusterAge'],\n",
       "      dtype='object')"
      ]
     },
     "execution_count": 69,
     "metadata": {},
     "output_type": "execute_result"
    }
   ],
   "source": [
    "data.columns\n"
   ]
  },
  {
   "cell_type": "code",
   "execution_count": 70,
   "id": "57d5ec6a",
   "metadata": {},
   "outputs": [
    {
     "name": "stdout",
     "output_type": "stream",
     "text": [
      "Outliers in TrnsnID:\n",
      "Empty DataFrame\n",
      "Columns: [TrnsnID, Data, CusmrID, ProdtID, ProdtName, Qutity, Prize, TtlSales, PaymentType, CusterAge]\n",
      "Index: []\n",
      "Outliers in CusmrID:\n",
      "Empty DataFrame\n",
      "Columns: [TrnsnID, Data, CusmrID, ProdtID, ProdtName, Qutity, Prize, TtlSales, PaymentType, CusterAge]\n",
      "Index: []\n",
      "Outliers in ProdtID:\n",
      "Empty DataFrame\n",
      "Columns: [TrnsnID, Data, CusmrID, ProdtID, ProdtName, Qutity, Prize, TtlSales, PaymentType, CusterAge]\n",
      "Index: []\n",
      "Outliers in Qutity:\n",
      "Empty DataFrame\n",
      "Columns: [TrnsnID, Data, CusmrID, ProdtID, ProdtName, Qutity, Prize, TtlSales, PaymentType, CusterAge]\n",
      "Index: []\n",
      "Outliers in Prize:\n",
      "Empty DataFrame\n",
      "Columns: [TrnsnID, Data, CusmrID, ProdtID, ProdtName, Qutity, Prize, TtlSales, PaymentType, CusterAge]\n",
      "Index: []\n",
      "Outliers in TtlSales:\n",
      "Empty DataFrame\n",
      "Columns: [TrnsnID, Data, CusmrID, ProdtID, ProdtName, Qutity, Prize, TtlSales, PaymentType, CusterAge]\n",
      "Index: []\n",
      "Outliers in CusterAge:\n",
      "Empty DataFrame\n",
      "Columns: [TrnsnID, Data, CusmrID, ProdtID, ProdtName, Qutity, Prize, TtlSales, PaymentType, CusterAge]\n",
      "Index: []\n"
     ]
    }
   ],
   "source": [
    "\n",
    "numerical_columns = ['TrnsnID', 'CusmrID', 'ProdtID', 'Qutity', 'Prize', 'TtlSales', 'CusterAge']\n",
    "for col in numerical_columns:\n",
    "    mean = data[col].mean()\n",
    "    std_dev = data[col].std()\n",
    "    outlier_threshold = 3  \n",
    "    outliers = data[(data[col] < mean - outlier_threshold * std_dev) | (data[col] > mean + outlier_threshold * std_dev)]\n",
    "    print(f\"Outliers in {col}:\")\n",
    "    print(outliers)\n",
    "\n",
    "\n",
    "typos_correction = {\n",
    "    \"Bookk\": \"Book\",\n",
    "    \"Boo E\": \"Book E\",\n",
    "  \n",
    "}\n",
    "data['ProdtName'] = data['ProdtName'].replace(typos_correction)\n"
   ]
  },
  {
   "cell_type": "code",
   "execution_count": 71,
   "id": "98ebfe5e",
   "metadata": {},
   "outputs": [
    {
     "name": "stdout",
     "output_type": "stream",
     "text": [
      "TrnsnID                 int64\n",
      "Data           datetime64[ns]\n",
      "CusmrID                 int64\n",
      "ProdtID                 int64\n",
      "ProdtName              object\n",
      "Qutity                  int64\n",
      "Prize                 float64\n",
      "TtlSales              float64\n",
      "PaymentType            object\n",
      "CusterAge               int64\n",
      "dtype: object\n"
     ]
    }
   ],
   "source": [
    "print(data.dtypes)\n"
   ]
  },
  {
   "cell_type": "code",
   "execution_count": 72,
   "id": "a652ca38",
   "metadata": {},
   "outputs": [],
   "source": [
    "data['TrnsnID'] = data['TrnsnID'].astype(int)\n",
    "data['Data'] = pd.to_datetime(data['Data'])\n",
    "data['CusmrID'] = data['CusmrID'].astype(int)\n",
    "data['ProdtID'] = data['ProdtID'].astype(int)\n",
    "data['ProdtName'] = data['ProdtName'].astype(str)\n",
    "data['Qutity'] = data['Qutity'].astype(int)\n",
    "data['Prize'] = data['Prize'].astype(float)\n",
    "data['TtlSales'] = data['TtlSales'].astype(float)\n",
    "data['PaymentType'] = data['PaymentType'].astype(str)\n",
    "data['CusterAge'] = data['CusterAge'].astype(int)\n"
   ]
  },
  {
   "cell_type": "code",
   "execution_count": 73,
   "id": "6c77aba0",
   "metadata": {},
   "outputs": [
    {
     "name": "stdout",
     "output_type": "stream",
     "text": [
      "TrnsnID                 int64\n",
      "Data           datetime64[ns]\n",
      "CusmrID                 int64\n",
      "ProdtID                 int64\n",
      "ProdtName              object\n",
      "Qutity                  int64\n",
      "Prize                 float64\n",
      "TtlSales              float64\n",
      "PaymentType            object\n",
      "CusterAge               int64\n",
      "dtype: object\n"
     ]
    }
   ],
   "source": [
    "print(data.dtypes)\n"
   ]
  },
  {
   "cell_type": "code",
   "execution_count": 74,
   "id": "49765bed",
   "metadata": {},
   "outputs": [],
   "source": [
    "data.rename(columns={\n",
    "    'TrnsnID': 'TransactionID',\n",
    "    'Data': 'Date',\n",
    "    'CusmrID': 'CustomerID',\n",
    "    'ProdtID': 'ProductID',\n",
    "    'ProdtName': 'ProductName',\n",
    "    'Qutity': 'Quantity',\n",
    "    'Prize': 'Price',\n",
    "    'TtlSales': 'TotalSales',\n",
    "    'PaymentType': 'PaymentType',\n",
    "    'CusterAge': 'CustomerAge'\n",
    "}, inplace=True)\n"
   ]
  },
  {
   "cell_type": "code",
   "execution_count": 75,
   "id": "3b554575",
   "metadata": {},
   "outputs": [
    {
     "data": {
      "text/plain": [
       "Index(['TransactionID', 'Date', 'CustomerID', 'ProductID', 'ProductName',\n",
       "       'Quantity', 'Price', 'TotalSales', 'PaymentType', 'CustomerAge'],\n",
       "      dtype='object')"
      ]
     },
     "execution_count": 75,
     "metadata": {},
     "output_type": "execute_result"
    }
   ],
   "source": [
    "data.columns"
   ]
  },
  {
   "cell_type": "code",
   "execution_count": null,
   "id": "24361bec",
   "metadata": {},
   "outputs": [],
   "source": []
  }
 ],
 "metadata": {
  "kernelspec": {
   "display_name": "Python 3 (ipykernel)",
   "language": "python",
   "name": "python3"
  },
  "language_info": {
   "codemirror_mode": {
    "name": "ipython",
    "version": 3
   },
   "file_extension": ".py",
   "mimetype": "text/x-python",
   "name": "python",
   "nbconvert_exporter": "python",
   "pygments_lexer": "ipython3",
   "version": "3.9.12"
  }
 },
 "nbformat": 4,
 "nbformat_minor": 5
}
